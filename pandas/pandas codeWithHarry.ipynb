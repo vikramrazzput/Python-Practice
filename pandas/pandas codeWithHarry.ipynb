{
 "cells": [
  {
   "cell_type": "code",
   "execution_count": 1,
   "id": "33d9cb0b-bb20-47d9-835a-26b1ebe77172",
   "metadata": {},
   "outputs": [],
   "source": [
    "import numpy as np\n",
    "import pandas as pd\n",
    "# Pandas is an open source data analysis library written in python\n",
    "# It leverages the power and speed of numpy to make data analysis and preprocessing easy for data scientists\n",
    "# It provides rich and highly robust data operations"
   ]
  },
  {
   "cell_type": "code",
   "execution_count": 2,
   "id": "f89139f9-38f4-4247-8382-d081eade1f89",
   "metadata": {},
   "outputs": [],
   "source": [
    "# Pandas has two types of data structures:\n",
    "# a) Series — It's a one dimensional array with indexes, it stores a single column or row of data in a Dataframe\n",
    "# b) Dataframe — It's a tabular spreadsheet like structure representing rows each of which contains one or multiple columns\n",
    "# A one-dimensional array(labeled) capable of holding any type of data— Series\n",
    "# A two-dimensional data (labeled) structure with columns of potentially different types of data - DataFrame"
   ]
  },
  {
   "cell_type": "code",
   "execution_count": 3,
   "id": "7478c6d2-8b88-4fd4-9b50-b0f80b9a0512",
   "metadata": {},
   "outputs": [],
   "source": [
    "dict1 = {\n",
    "    \"name\": ['harry', 'rohan', 'skillf', 'shubh'],\n",
    "    \"marks\": [92, 34, 24, 17],\n",
    "    \"city\": ['rampur', 'kolkata', 'bareilly', 'antartica']\n",
    "}"
   ]
  },
  {
   "cell_type": "code",
   "execution_count": 4,
   "id": "076e65cd-0f22-41e6-9160-2cd94ee08ddb",
   "metadata": {},
   "outputs": [],
   "source": [
    "df = pd.DataFrame(dict1) \n",
    "# we will store data frame in a variable\n",
    "# data frame is like a excel sheet. with data frame help we can do fast indexing, we can also able to use numpy function"
   ]
  },
  {
   "cell_type": "code",
   "execution_count": 5,
   "id": "343db6b0-02f3-4769-af21-6df090894b7a",
   "metadata": {},
   "outputs": [
    {
     "data": {
      "text/html": [
       "<div>\n",
       "<style scoped>\n",
       "    .dataframe tbody tr th:only-of-type {\n",
       "        vertical-align: middle;\n",
       "    }\n",
       "\n",
       "    .dataframe tbody tr th {\n",
       "        vertical-align: top;\n",
       "    }\n",
       "\n",
       "    .dataframe thead th {\n",
       "        text-align: right;\n",
       "    }\n",
       "</style>\n",
       "<table border=\"1\" class=\"dataframe\">\n",
       "  <thead>\n",
       "    <tr style=\"text-align: right;\">\n",
       "      <th></th>\n",
       "      <th>name</th>\n",
       "      <th>marks</th>\n",
       "      <th>city</th>\n",
       "    </tr>\n",
       "  </thead>\n",
       "  <tbody>\n",
       "    <tr>\n",
       "      <th>0</th>\n",
       "      <td>harry</td>\n",
       "      <td>92</td>\n",
       "      <td>rampur</td>\n",
       "    </tr>\n",
       "    <tr>\n",
       "      <th>1</th>\n",
       "      <td>rohan</td>\n",
       "      <td>34</td>\n",
       "      <td>kolkata</td>\n",
       "    </tr>\n",
       "    <tr>\n",
       "      <th>2</th>\n",
       "      <td>skillf</td>\n",
       "      <td>24</td>\n",
       "      <td>bareilly</td>\n",
       "    </tr>\n",
       "    <tr>\n",
       "      <th>3</th>\n",
       "      <td>shubh</td>\n",
       "      <td>17</td>\n",
       "      <td>antartica</td>\n",
       "    </tr>\n",
       "  </tbody>\n",
       "</table>\n",
       "</div>"
      ],
      "text/plain": [
       "     name  marks       city\n",
       "0   harry     92     rampur\n",
       "1   rohan     34    kolkata\n",
       "2  skillf     24   bareilly\n",
       "3   shubh     17  antartica"
      ]
     },
     "execution_count": 5,
     "metadata": {},
     "output_type": "execute_result"
    }
   ],
   "source": [
    "df"
   ]
  },
  {
   "cell_type": "code",
   "execution_count": 6,
   "id": "8a0d5bd0-eacf-4cbe-a09c-c4ef2e9530cd",
   "metadata": {},
   "outputs": [],
   "source": [
    "df.to_csv('friends.csv')   \n",
    "# convert data frame into csv file\n",
    "# syntax : df.to_csv ('filename.csv')"
   ]
  },
  {
   "cell_type": "code",
   "execution_count": 7,
   "id": "ec8db75e-cf28-4792-9288-8c273bcb7d76",
   "metadata": {},
   "outputs": [],
   "source": [
    "# if we don't want index in our csv file then\n",
    "df.to_csv('friends_index_false.csv' , index = False)\n",
    "# false first word should be in capital letter\n",
    "# NOTE: index means row, aur column ko column hi bolte hain"
   ]
  },
  {
   "cell_type": "code",
   "execution_count": 8,
   "id": "67a6b911-27ce-4582-affb-d9cf5ebb4998",
   "metadata": {},
   "outputs": [
    {
     "data": {
      "text/html": [
       "<div>\n",
       "<style scoped>\n",
       "    .dataframe tbody tr th:only-of-type {\n",
       "        vertical-align: middle;\n",
       "    }\n",
       "\n",
       "    .dataframe tbody tr th {\n",
       "        vertical-align: top;\n",
       "    }\n",
       "\n",
       "    .dataframe thead th {\n",
       "        text-align: right;\n",
       "    }\n",
       "</style>\n",
       "<table border=\"1\" class=\"dataframe\">\n",
       "  <thead>\n",
       "    <tr style=\"text-align: right;\">\n",
       "      <th></th>\n",
       "      <th>name</th>\n",
       "      <th>marks</th>\n",
       "      <th>city</th>\n",
       "    </tr>\n",
       "  </thead>\n",
       "  <tbody>\n",
       "    <tr>\n",
       "      <th>0</th>\n",
       "      <td>harry</td>\n",
       "      <td>92</td>\n",
       "      <td>rampur</td>\n",
       "    </tr>\n",
       "    <tr>\n",
       "      <th>1</th>\n",
       "      <td>rohan</td>\n",
       "      <td>34</td>\n",
       "      <td>kolkata</td>\n",
       "    </tr>\n",
       "  </tbody>\n",
       "</table>\n",
       "</div>"
      ],
      "text/plain": [
       "    name  marks     city\n",
       "0  harry     92   rampur\n",
       "1  rohan     34  kolkata"
      ]
     },
     "execution_count": 8,
     "metadata": {},
     "output_type": "execute_result"
    }
   ],
   "source": [
    "df.head (2)\n",
    "# ye suru ka 2 index dikhayega"
   ]
  },
  {
   "cell_type": "code",
   "execution_count": 9,
   "id": "eb06c7c7-c176-4e0f-afa6-a1ce3e44145e",
   "metadata": {},
   "outputs": [
    {
     "data": {
      "text/html": [
       "<div>\n",
       "<style scoped>\n",
       "    .dataframe tbody tr th:only-of-type {\n",
       "        vertical-align: middle;\n",
       "    }\n",
       "\n",
       "    .dataframe tbody tr th {\n",
       "        vertical-align: top;\n",
       "    }\n",
       "\n",
       "    .dataframe thead th {\n",
       "        text-align: right;\n",
       "    }\n",
       "</style>\n",
       "<table border=\"1\" class=\"dataframe\">\n",
       "  <thead>\n",
       "    <tr style=\"text-align: right;\">\n",
       "      <th></th>\n",
       "      <th>name</th>\n",
       "      <th>marks</th>\n",
       "      <th>city</th>\n",
       "    </tr>\n",
       "  </thead>\n",
       "  <tbody>\n",
       "    <tr>\n",
       "      <th>0</th>\n",
       "      <td>harry</td>\n",
       "      <td>92</td>\n",
       "      <td>rampur</td>\n",
       "    </tr>\n",
       "    <tr>\n",
       "      <th>1</th>\n",
       "      <td>rohan</td>\n",
       "      <td>34</td>\n",
       "      <td>kolkata</td>\n",
       "    </tr>\n",
       "    <tr>\n",
       "      <th>2</th>\n",
       "      <td>skillf</td>\n",
       "      <td>24</td>\n",
       "      <td>bareilly</td>\n",
       "    </tr>\n",
       "  </tbody>\n",
       "</table>\n",
       "</div>"
      ],
      "text/plain": [
       "     name  marks      city\n",
       "0   harry     92    rampur\n",
       "1   rohan     34   kolkata\n",
       "2  skillf     24  bareilly"
      ]
     },
     "execution_count": 9,
     "metadata": {},
     "output_type": "execute_result"
    }
   ],
   "source": [
    "df.head (3)\n",
    "# ye suru ka 3 index dikhayega"
   ]
  },
  {
   "cell_type": "code",
   "execution_count": 10,
   "id": "dfa20a84-6fc6-4d87-bc65-bf32e2a675ac",
   "metadata": {},
   "outputs": [
    {
     "data": {
      "text/html": [
       "<div>\n",
       "<style scoped>\n",
       "    .dataframe tbody tr th:only-of-type {\n",
       "        vertical-align: middle;\n",
       "    }\n",
       "\n",
       "    .dataframe tbody tr th {\n",
       "        vertical-align: top;\n",
       "    }\n",
       "\n",
       "    .dataframe thead th {\n",
       "        text-align: right;\n",
       "    }\n",
       "</style>\n",
       "<table border=\"1\" class=\"dataframe\">\n",
       "  <thead>\n",
       "    <tr style=\"text-align: right;\">\n",
       "      <th></th>\n",
       "      <th>name</th>\n",
       "      <th>marks</th>\n",
       "      <th>city</th>\n",
       "    </tr>\n",
       "  </thead>\n",
       "  <tbody>\n",
       "    <tr>\n",
       "      <th>2</th>\n",
       "      <td>skillf</td>\n",
       "      <td>24</td>\n",
       "      <td>bareilly</td>\n",
       "    </tr>\n",
       "    <tr>\n",
       "      <th>3</th>\n",
       "      <td>shubh</td>\n",
       "      <td>17</td>\n",
       "      <td>antartica</td>\n",
       "    </tr>\n",
       "  </tbody>\n",
       "</table>\n",
       "</div>"
      ],
      "text/plain": [
       "     name  marks       city\n",
       "2  skillf     24   bareilly\n",
       "3   shubh     17  antartica"
      ]
     },
     "execution_count": 10,
     "metadata": {},
     "output_type": "execute_result"
    }
   ],
   "source": [
    "df.tail (2)\n",
    "# ye last ka 2 index dikhayega"
   ]
  },
  {
   "cell_type": "code",
   "execution_count": 11,
   "id": "ce6643d2-c3b6-4eab-b0da-9685ac260fa7",
   "metadata": {},
   "outputs": [
    {
     "data": {
      "text/html": [
       "<div>\n",
       "<style scoped>\n",
       "    .dataframe tbody tr th:only-of-type {\n",
       "        vertical-align: middle;\n",
       "    }\n",
       "\n",
       "    .dataframe tbody tr th {\n",
       "        vertical-align: top;\n",
       "    }\n",
       "\n",
       "    .dataframe thead th {\n",
       "        text-align: right;\n",
       "    }\n",
       "</style>\n",
       "<table border=\"1\" class=\"dataframe\">\n",
       "  <thead>\n",
       "    <tr style=\"text-align: right;\">\n",
       "      <th></th>\n",
       "      <th>name</th>\n",
       "      <th>marks</th>\n",
       "      <th>city</th>\n",
       "    </tr>\n",
       "  </thead>\n",
       "  <tbody>\n",
       "    <tr>\n",
       "      <th>1</th>\n",
       "      <td>rohan</td>\n",
       "      <td>34</td>\n",
       "      <td>kolkata</td>\n",
       "    </tr>\n",
       "    <tr>\n",
       "      <th>2</th>\n",
       "      <td>skillf</td>\n",
       "      <td>24</td>\n",
       "      <td>bareilly</td>\n",
       "    </tr>\n",
       "    <tr>\n",
       "      <th>3</th>\n",
       "      <td>shubh</td>\n",
       "      <td>17</td>\n",
       "      <td>antartica</td>\n",
       "    </tr>\n",
       "  </tbody>\n",
       "</table>\n",
       "</div>"
      ],
      "text/plain": [
       "     name  marks       city\n",
       "1   rohan     34    kolkata\n",
       "2  skillf     24   bareilly\n",
       "3   shubh     17  antartica"
      ]
     },
     "execution_count": 11,
     "metadata": {},
     "output_type": "execute_result"
    }
   ],
   "source": [
    "df.tail (3)\n",
    "# ye last ka 3 index dikhayega"
   ]
  },
  {
   "cell_type": "code",
   "execution_count": 12,
   "id": "64106ff0-9359-4595-bdea-5911bb41ddfa",
   "metadata": {},
   "outputs": [
    {
     "data": {
      "text/html": [
       "<div>\n",
       "<style scoped>\n",
       "    .dataframe tbody tr th:only-of-type {\n",
       "        vertical-align: middle;\n",
       "    }\n",
       "\n",
       "    .dataframe tbody tr th {\n",
       "        vertical-align: top;\n",
       "    }\n",
       "\n",
       "    .dataframe thead th {\n",
       "        text-align: right;\n",
       "    }\n",
       "</style>\n",
       "<table border=\"1\" class=\"dataframe\">\n",
       "  <thead>\n",
       "    <tr style=\"text-align: right;\">\n",
       "      <th></th>\n",
       "      <th>marks</th>\n",
       "    </tr>\n",
       "  </thead>\n",
       "  <tbody>\n",
       "    <tr>\n",
       "      <th>count</th>\n",
       "      <td>4.00000</td>\n",
       "    </tr>\n",
       "    <tr>\n",
       "      <th>mean</th>\n",
       "      <td>41.75000</td>\n",
       "    </tr>\n",
       "    <tr>\n",
       "      <th>std</th>\n",
       "      <td>34.21866</td>\n",
       "    </tr>\n",
       "    <tr>\n",
       "      <th>min</th>\n",
       "      <td>17.00000</td>\n",
       "    </tr>\n",
       "    <tr>\n",
       "      <th>25%</th>\n",
       "      <td>22.25000</td>\n",
       "    </tr>\n",
       "    <tr>\n",
       "      <th>50%</th>\n",
       "      <td>29.00000</td>\n",
       "    </tr>\n",
       "    <tr>\n",
       "      <th>75%</th>\n",
       "      <td>48.50000</td>\n",
       "    </tr>\n",
       "    <tr>\n",
       "      <th>max</th>\n",
       "      <td>92.00000</td>\n",
       "    </tr>\n",
       "  </tbody>\n",
       "</table>\n",
       "</div>"
      ],
      "text/plain": [
       "          marks\n",
       "count   4.00000\n",
       "mean   41.75000\n",
       "std    34.21866\n",
       "min    17.00000\n",
       "25%    22.25000\n",
       "50%    29.00000\n",
       "75%    48.50000\n",
       "max    92.00000"
      ]
     },
     "execution_count": 12,
     "metadata": {},
     "output_type": "execute_result"
    }
   ],
   "source": [
    "df.describe ()\n",
    "# jo bhi numerical column data hain uska count, mean.std (standard deviation),min,25%,50%,75% and max value btayga"
   ]
  },
  {
   "cell_type": "code",
   "execution_count": 13,
   "id": "d7047bd3-e316-4241-b8f2-e6369a75b5cb",
   "metadata": {},
   "outputs": [],
   "source": [
    "# Read a csv file and store it in a variable\n",
    "harry = pd.read_csv('vikram.csv')"
   ]
  },
  {
   "cell_type": "code",
   "execution_count": 14,
   "id": "27e9a651-0ea0-4dfd-a893-f17e4d9fde34",
   "metadata": {},
   "outputs": [
    {
     "data": {
      "text/html": [
       "<div>\n",
       "<style scoped>\n",
       "    .dataframe tbody tr th:only-of-type {\n",
       "        vertical-align: middle;\n",
       "    }\n",
       "\n",
       "    .dataframe tbody tr th {\n",
       "        vertical-align: top;\n",
       "    }\n",
       "\n",
       "    .dataframe thead th {\n",
       "        text-align: right;\n",
       "    }\n",
       "</style>\n",
       "<table border=\"1\" class=\"dataframe\">\n",
       "  <thead>\n",
       "    <tr style=\"text-align: right;\">\n",
       "      <th></th>\n",
       "      <th>Unnamed: 0.2</th>\n",
       "      <th>Unnamed: 0.1</th>\n",
       "      <th>Unnamed: 0</th>\n",
       "      <th>Train no</th>\n",
       "      <th>Speed</th>\n",
       "      <th>City</th>\n",
       "    </tr>\n",
       "  </thead>\n",
       "  <tbody>\n",
       "    <tr>\n",
       "      <th>0</th>\n",
       "      <td>0</td>\n",
       "      <td>0</td>\n",
       "      <td>0</td>\n",
       "      <td>12233</td>\n",
       "      <td>100</td>\n",
       "      <td>Delhi</td>\n",
       "    </tr>\n",
       "    <tr>\n",
       "      <th>1</th>\n",
       "      <td>1</td>\n",
       "      <td>1</td>\n",
       "      <td>1</td>\n",
       "      <td>12351</td>\n",
       "      <td>57</td>\n",
       "      <td>Kolkata</td>\n",
       "    </tr>\n",
       "    <tr>\n",
       "      <th>2</th>\n",
       "      <td>2</td>\n",
       "      <td>2</td>\n",
       "      <td>2</td>\n",
       "      <td>12561</td>\n",
       "      <td>87</td>\n",
       "      <td>mumbai</td>\n",
       "    </tr>\n",
       "    <tr>\n",
       "      <th>3</th>\n",
       "      <td>3</td>\n",
       "      <td>3</td>\n",
       "      <td>3</td>\n",
       "      <td>24376</td>\n",
       "      <td>45</td>\n",
       "      <td>patna</td>\n",
       "    </tr>\n",
       "    <tr>\n",
       "      <th>4</th>\n",
       "      <td>4</td>\n",
       "      <td>4</td>\n",
       "      <td>4</td>\n",
       "      <td>23425</td>\n",
       "      <td>90</td>\n",
       "      <td>asansol</td>\n",
       "    </tr>\n",
       "  </tbody>\n",
       "</table>\n",
       "</div>"
      ],
      "text/plain": [
       "   Unnamed: 0.2  Unnamed: 0.1  Unnamed: 0  Train no  Speed      City\n",
       "0             0             0           0     12233     100    Delhi\n",
       "1             1             1           1     12351      57  Kolkata\n",
       "2             2             2           2     12561      87   mumbai\n",
       "3             3             3           3     24376      45    patna\n",
       "4             4             4           4     23425      90  asansol"
      ]
     },
     "execution_count": 14,
     "metadata": {},
     "output_type": "execute_result"
    }
   ],
   "source": [
    "harry"
   ]
  },
  {
   "cell_type": "code",
   "execution_count": 15,
   "id": "c2082721-bf84-428f-99f8-2276b7d558e1",
   "metadata": {},
   "outputs": [
    {
     "data": {
      "text/plain": [
       "0      Delhi\n",
       "1    Kolkata\n",
       "2     mumbai\n",
       "3      patna\n",
       "4    asansol\n",
       "Name: City, dtype: object"
      ]
     },
     "execution_count": 15,
     "metadata": {},
     "output_type": "execute_result"
    }
   ],
   "source": [
    "harry['City']"
   ]
  },
  {
   "cell_type": "code",
   "execution_count": 16,
   "id": "f7b77c65-04e5-4430-ae30-7d34b1c4d465",
   "metadata": {},
   "outputs": [
    {
     "data": {
      "text/plain": [
       "0    12233\n",
       "1    12351\n",
       "2    12561\n",
       "3    24376\n",
       "4    23425\n",
       "Name: Train no, dtype: int64"
      ]
     },
     "execution_count": 16,
     "metadata": {},
     "output_type": "execute_result"
    }
   ],
   "source": [
    "harry['Train no']"
   ]
  },
  {
   "cell_type": "code",
   "execution_count": 17,
   "id": "6786fae8-6351-4669-ade0-267735638f47",
   "metadata": {},
   "outputs": [
    {
     "data": {
      "text/plain": [
       "0    100\n",
       "1     57\n",
       "2     87\n",
       "3     45\n",
       "4     90\n",
       "Name: Speed , dtype: int64"
      ]
     },
     "execution_count": 17,
     "metadata": {},
     "output_type": "execute_result"
    }
   ],
   "source": [
    "harry['Speed ']\n",
    "# there is a space gap after Speed"
   ]
  },
  {
   "cell_type": "code",
   "execution_count": 18,
   "id": "e920a0e7-24af-4936-9e5e-8f48374111e2",
   "metadata": {},
   "outputs": [
    {
     "data": {
      "text/html": [
       "<div>\n",
       "<style scoped>\n",
       "    .dataframe tbody tr th:only-of-type {\n",
       "        vertical-align: middle;\n",
       "    }\n",
       "\n",
       "    .dataframe tbody tr th {\n",
       "        vertical-align: top;\n",
       "    }\n",
       "\n",
       "    .dataframe thead th {\n",
       "        text-align: right;\n",
       "    }\n",
       "</style>\n",
       "<table border=\"1\" class=\"dataframe\">\n",
       "  <thead>\n",
       "    <tr style=\"text-align: right;\">\n",
       "      <th></th>\n",
       "      <th>Train no</th>\n",
       "      <th>Speed</th>\n",
       "    </tr>\n",
       "  </thead>\n",
       "  <tbody>\n",
       "    <tr>\n",
       "      <th>0</th>\n",
       "      <td>12233</td>\n",
       "      <td>100</td>\n",
       "    </tr>\n",
       "    <tr>\n",
       "      <th>1</th>\n",
       "      <td>12351</td>\n",
       "      <td>57</td>\n",
       "    </tr>\n",
       "    <tr>\n",
       "      <th>2</th>\n",
       "      <td>12561</td>\n",
       "      <td>87</td>\n",
       "    </tr>\n",
       "    <tr>\n",
       "      <th>3</th>\n",
       "      <td>24376</td>\n",
       "      <td>45</td>\n",
       "    </tr>\n",
       "    <tr>\n",
       "      <th>4</th>\n",
       "      <td>23425</td>\n",
       "      <td>90</td>\n",
       "    </tr>\n",
       "  </tbody>\n",
       "</table>\n",
       "</div>"
      ],
      "text/plain": [
       "   Train no  Speed \n",
       "0     12233     100\n",
       "1     12351      57\n",
       "2     12561      87\n",
       "3     24376      45\n",
       "4     23425      90"
      ]
     },
     "execution_count": 18,
     "metadata": {},
     "output_type": "execute_result"
    }
   ],
   "source": [
    "harry [['Train no', 'Speed ']]\n",
    "# selecting more than one column at once"
   ]
  },
  {
   "cell_type": "code",
   "execution_count": 19,
   "id": "1c69267b-9ced-4ff2-b0f5-bf079a004e22",
   "metadata": {},
   "outputs": [
    {
     "data": {
      "text/plain": [
       "0    100\n",
       "1     57\n",
       "Name: Speed , dtype: int64"
      ]
     },
     "execution_count": 19,
     "metadata": {},
     "output_type": "execute_result"
    }
   ],
   "source": [
    "harry['Speed '].head(2)"
   ]
  },
  {
   "cell_type": "code",
   "execution_count": 20,
   "id": "20412a9a-d490-4054-b184-65d65f959736",
   "metadata": {},
   "outputs": [
    {
     "data": {
      "text/plain": [
       "np.int64(100)"
      ]
     },
     "execution_count": 20,
     "metadata": {},
     "output_type": "execute_result"
    }
   ],
   "source": [
    "harry['Speed '][0]\n",
    "# shows the value of speed is 67"
   ]
  },
  {
   "cell_type": "code",
   "execution_count": 21,
   "id": "281b7619-e8ca-4896-a4b0-b9fdc9a3780a",
   "metadata": {},
   "outputs": [
    {
     "name": "stderr",
     "output_type": "stream",
     "text": [
      "C:\\Users\\Vikra\\AppData\\Local\\Temp\\ipykernel_8504\\3119987439.py:1: SettingWithCopyWarning: \n",
      "A value is trying to be set on a copy of a slice from a DataFrame\n",
      "\n",
      "See the caveats in the documentation: https://pandas.pydata.org/pandas-docs/stable/user_guide/indexing.html#returning-a-view-versus-a-copy\n",
      "  harry['Speed '][0] = 100\n"
     ]
    }
   ],
   "source": [
    "harry['Speed '][0] = 100\n",
    "# we update the value of speed to 100\n",
    "# this method is not advisable"
   ]
  },
  {
   "cell_type": "code",
   "execution_count": 22,
   "id": "7d65ab59-acad-4d9f-bcb6-bce17db64d8e",
   "metadata": {},
   "outputs": [
    {
     "data": {
      "text/plain": [
       "0    100\n",
       "1     57\n",
       "2     87\n",
       "3     45\n",
       "4     90\n",
       "Name: Speed , dtype: int64"
      ]
     },
     "execution_count": 22,
     "metadata": {},
     "output_type": "execute_result"
    }
   ],
   "source": [
    "harry['Speed ']"
   ]
  },
  {
   "cell_type": "code",
   "execution_count": 23,
   "id": "70f62b16-f2f9-4dff-a62b-91e179eff3d9",
   "metadata": {},
   "outputs": [],
   "source": [
    "harry.to_csv ('vikram.csv')\n",
    "# we are updating changes to csv file"
   ]
  },
  {
   "cell_type": "code",
   "execution_count": 24,
   "id": "5c5ad3e6-f64a-4114-b580-725a5741d2c6",
   "metadata": {},
   "outputs": [],
   "source": [
    "# how to change index of csv file\n",
    "harry.index = ['first','second','third','fourth','fifth']"
   ]
  },
  {
   "cell_type": "code",
   "execution_count": 25,
   "id": "d981131b-7e8c-4ed4-a6b6-fddc54062d1c",
   "metadata": {},
   "outputs": [
    {
     "data": {
      "text/html": [
       "<div>\n",
       "<style scoped>\n",
       "    .dataframe tbody tr th:only-of-type {\n",
       "        vertical-align: middle;\n",
       "    }\n",
       "\n",
       "    .dataframe tbody tr th {\n",
       "        vertical-align: top;\n",
       "    }\n",
       "\n",
       "    .dataframe thead th {\n",
       "        text-align: right;\n",
       "    }\n",
       "</style>\n",
       "<table border=\"1\" class=\"dataframe\">\n",
       "  <thead>\n",
       "    <tr style=\"text-align: right;\">\n",
       "      <th></th>\n",
       "      <th>Unnamed: 0.2</th>\n",
       "      <th>Unnamed: 0.1</th>\n",
       "      <th>Unnamed: 0</th>\n",
       "      <th>Train no</th>\n",
       "      <th>Speed</th>\n",
       "      <th>City</th>\n",
       "    </tr>\n",
       "  </thead>\n",
       "  <tbody>\n",
       "    <tr>\n",
       "      <th>first</th>\n",
       "      <td>0</td>\n",
       "      <td>0</td>\n",
       "      <td>0</td>\n",
       "      <td>12233</td>\n",
       "      <td>100</td>\n",
       "      <td>Delhi</td>\n",
       "    </tr>\n",
       "    <tr>\n",
       "      <th>second</th>\n",
       "      <td>1</td>\n",
       "      <td>1</td>\n",
       "      <td>1</td>\n",
       "      <td>12351</td>\n",
       "      <td>57</td>\n",
       "      <td>Kolkata</td>\n",
       "    </tr>\n",
       "    <tr>\n",
       "      <th>third</th>\n",
       "      <td>2</td>\n",
       "      <td>2</td>\n",
       "      <td>2</td>\n",
       "      <td>12561</td>\n",
       "      <td>87</td>\n",
       "      <td>mumbai</td>\n",
       "    </tr>\n",
       "    <tr>\n",
       "      <th>fourth</th>\n",
       "      <td>3</td>\n",
       "      <td>3</td>\n",
       "      <td>3</td>\n",
       "      <td>24376</td>\n",
       "      <td>45</td>\n",
       "      <td>patna</td>\n",
       "    </tr>\n",
       "    <tr>\n",
       "      <th>fifth</th>\n",
       "      <td>4</td>\n",
       "      <td>4</td>\n",
       "      <td>4</td>\n",
       "      <td>23425</td>\n",
       "      <td>90</td>\n",
       "      <td>asansol</td>\n",
       "    </tr>\n",
       "  </tbody>\n",
       "</table>\n",
       "</div>"
      ],
      "text/plain": [
       "        Unnamed: 0.2  Unnamed: 0.1  Unnamed: 0  Train no  Speed      City\n",
       "first              0             0           0     12233     100    Delhi\n",
       "second             1             1           1     12351      57  Kolkata\n",
       "third              2             2           2     12561      87   mumbai\n",
       "fourth             3             3           3     24376      45    patna\n",
       "fifth              4             4           4     23425      90  asansol"
      ]
     },
     "execution_count": 25,
     "metadata": {},
     "output_type": "execute_result"
    }
   ],
   "source": [
    "harry"
   ]
  },
  {
   "cell_type": "code",
   "execution_count": 26,
   "id": "fd5e6166-5c80-4844-8866-dfb51e2aa320",
   "metadata": {},
   "outputs": [],
   "source": [
    "# ----------------------------------------------------------------------------------------------------------------------------"
   ]
  },
  {
   "cell_type": "code",
   "execution_count": 27,
   "id": "2e98a034-8675-4413-8c51-75abe22a6a3c",
   "metadata": {},
   "outputs": [],
   "source": [
    "# Pandas has two types of data structures:\n",
    "# a) Series — It's a one dimensional array with indexes, it stores a single column or row of data in a Dataframe\n",
    "# b) Dataframe — It's a tabular spreadsheet like structure representing rows each of which contains one or multiple columns\n",
    "# A one-dimensional array(labeled) capable of holding any type of data— Series\n",
    "# A two-dimensional data (labeled) structure with columns of potentially different types of data - DataFrame"
   ]
  },
  {
   "cell_type": "code",
   "execution_count": 28,
   "id": "a30c304a-0ff0-4887-bbd6-f4555a62e8f9",
   "metadata": {},
   "outputs": [],
   "source": [
    "ser = pd.Series (np.random.rand())"
   ]
  },
  {
   "cell_type": "raw",
   "id": "bc7bbe75-a31a-48b0-8905-545e003ccc20",
   "metadata": {},
   "source": [
    "ser"
   ]
  },
  {
   "cell_type": "code",
   "execution_count": 29,
   "id": "aac094db-2ad0-4ca2-b1f5-9b34e18286ee",
   "metadata": {
    "scrolled": true
   },
   "outputs": [
    {
     "data": {
      "text/plain": [
       "pandas.core.series.Series"
      ]
     },
     "execution_count": 29,
     "metadata": {},
     "output_type": "execute_result"
    }
   ],
   "source": [
    "type(ser)"
   ]
  },
  {
   "cell_type": "code",
   "execution_count": 30,
   "id": "435a84e1-6097-446c-bb79-250bf978ee5b",
   "metadata": {},
   "outputs": [],
   "source": [
    "ser = pd.Series (np.random.rand(34))"
   ]
  },
  {
   "cell_type": "code",
   "execution_count": 31,
   "id": "11ab03d2-83e8-43a1-bf50-ec93fed1aae0",
   "metadata": {},
   "outputs": [
    {
     "data": {
      "text/plain": [
       "0     0.626756\n",
       "1     0.315319\n",
       "2     0.435170\n",
       "3     0.397518\n",
       "4     0.875150\n",
       "5     0.107050\n",
       "6     0.168068\n",
       "7     0.944370\n",
       "8     0.590435\n",
       "9     0.272549\n",
       "10    0.807792\n",
       "11    0.776393\n",
       "12    0.749477\n",
       "13    0.053197\n",
       "14    0.840750\n",
       "15    0.285828\n",
       "16    0.511469\n",
       "17    0.691760\n",
       "18    0.556907\n",
       "19    0.568163\n",
       "20    0.377624\n",
       "21    0.683902\n",
       "22    0.265268\n",
       "23    0.342310\n",
       "24    0.711535\n",
       "25    0.076990\n",
       "26    0.495826\n",
       "27    0.741961\n",
       "28    0.355626\n",
       "29    0.962132\n",
       "30    0.218763\n",
       "31    0.063665\n",
       "32    0.515830\n",
       "33    0.363938\n",
       "dtype: float64"
      ]
     },
     "execution_count": 31,
     "metadata": {},
     "output_type": "execute_result"
    }
   ],
   "source": [
    "ser"
   ]
  },
  {
   "cell_type": "code",
   "execution_count": 32,
   "id": "0b6cd1fd-2f14-4374-9e35-840155b88483",
   "metadata": {},
   "outputs": [],
   "source": [
    "# Now, we are going to make new DataFrame"
   ]
  },
  {
   "cell_type": "code",
   "execution_count": 33,
   "id": "8009e622-76ec-49e0-bb77-ed27d615c6d0",
   "metadata": {},
   "outputs": [],
   "source": [
    "newdf = pd.DataFrame(np.random.rand(334,5))"
   ]
  },
  {
   "cell_type": "code",
   "execution_count": 34,
   "id": "18924446-66ad-4a52-b02c-c6d450973f0d",
   "metadata": {},
   "outputs": [
    {
     "data": {
      "text/html": [
       "<div>\n",
       "<style scoped>\n",
       "    .dataframe tbody tr th:only-of-type {\n",
       "        vertical-align: middle;\n",
       "    }\n",
       "\n",
       "    .dataframe tbody tr th {\n",
       "        vertical-align: top;\n",
       "    }\n",
       "\n",
       "    .dataframe thead th {\n",
       "        text-align: right;\n",
       "    }\n",
       "</style>\n",
       "<table border=\"1\" class=\"dataframe\">\n",
       "  <thead>\n",
       "    <tr style=\"text-align: right;\">\n",
       "      <th></th>\n",
       "      <th>0</th>\n",
       "      <th>1</th>\n",
       "      <th>2</th>\n",
       "      <th>3</th>\n",
       "      <th>4</th>\n",
       "    </tr>\n",
       "  </thead>\n",
       "  <tbody>\n",
       "    <tr>\n",
       "      <th>0</th>\n",
       "      <td>0.396913</td>\n",
       "      <td>0.818824</td>\n",
       "      <td>0.548025</td>\n",
       "      <td>0.022180</td>\n",
       "      <td>0.140742</td>\n",
       "    </tr>\n",
       "    <tr>\n",
       "      <th>1</th>\n",
       "      <td>0.728445</td>\n",
       "      <td>0.114544</td>\n",
       "      <td>0.725716</td>\n",
       "      <td>0.390201</td>\n",
       "      <td>0.520081</td>\n",
       "    </tr>\n",
       "    <tr>\n",
       "      <th>2</th>\n",
       "      <td>0.374800</td>\n",
       "      <td>0.846142</td>\n",
       "      <td>0.021044</td>\n",
       "      <td>0.312407</td>\n",
       "      <td>0.348585</td>\n",
       "    </tr>\n",
       "    <tr>\n",
       "      <th>3</th>\n",
       "      <td>0.059859</td>\n",
       "      <td>0.110872</td>\n",
       "      <td>0.069597</td>\n",
       "      <td>0.083635</td>\n",
       "      <td>0.202105</td>\n",
       "    </tr>\n",
       "    <tr>\n",
       "      <th>4</th>\n",
       "      <td>0.765796</td>\n",
       "      <td>0.516199</td>\n",
       "      <td>0.289079</td>\n",
       "      <td>0.867226</td>\n",
       "      <td>0.284108</td>\n",
       "    </tr>\n",
       "    <tr>\n",
       "      <th>...</th>\n",
       "      <td>...</td>\n",
       "      <td>...</td>\n",
       "      <td>...</td>\n",
       "      <td>...</td>\n",
       "      <td>...</td>\n",
       "    </tr>\n",
       "    <tr>\n",
       "      <th>329</th>\n",
       "      <td>0.879090</td>\n",
       "      <td>0.233078</td>\n",
       "      <td>0.170570</td>\n",
       "      <td>0.196284</td>\n",
       "      <td>0.938480</td>\n",
       "    </tr>\n",
       "    <tr>\n",
       "      <th>330</th>\n",
       "      <td>0.420148</td>\n",
       "      <td>0.470158</td>\n",
       "      <td>0.460541</td>\n",
       "      <td>0.211254</td>\n",
       "      <td>0.847370</td>\n",
       "    </tr>\n",
       "    <tr>\n",
       "      <th>331</th>\n",
       "      <td>0.276385</td>\n",
       "      <td>0.873813</td>\n",
       "      <td>0.479600</td>\n",
       "      <td>0.067746</td>\n",
       "      <td>0.684815</td>\n",
       "    </tr>\n",
       "    <tr>\n",
       "      <th>332</th>\n",
       "      <td>0.235353</td>\n",
       "      <td>0.907165</td>\n",
       "      <td>0.590595</td>\n",
       "      <td>0.208192</td>\n",
       "      <td>0.136079</td>\n",
       "    </tr>\n",
       "    <tr>\n",
       "      <th>333</th>\n",
       "      <td>0.437322</td>\n",
       "      <td>0.417552</td>\n",
       "      <td>0.717971</td>\n",
       "      <td>0.341233</td>\n",
       "      <td>0.178723</td>\n",
       "    </tr>\n",
       "  </tbody>\n",
       "</table>\n",
       "<p>334 rows × 5 columns</p>\n",
       "</div>"
      ],
      "text/plain": [
       "            0         1         2         3         4\n",
       "0    0.396913  0.818824  0.548025  0.022180  0.140742\n",
       "1    0.728445  0.114544  0.725716  0.390201  0.520081\n",
       "2    0.374800  0.846142  0.021044  0.312407  0.348585\n",
       "3    0.059859  0.110872  0.069597  0.083635  0.202105\n",
       "4    0.765796  0.516199  0.289079  0.867226  0.284108\n",
       "..        ...       ...       ...       ...       ...\n",
       "329  0.879090  0.233078  0.170570  0.196284  0.938480\n",
       "330  0.420148  0.470158  0.460541  0.211254  0.847370\n",
       "331  0.276385  0.873813  0.479600  0.067746  0.684815\n",
       "332  0.235353  0.907165  0.590595  0.208192  0.136079\n",
       "333  0.437322  0.417552  0.717971  0.341233  0.178723\n",
       "\n",
       "[334 rows x 5 columns]"
      ]
     },
     "execution_count": 34,
     "metadata": {},
     "output_type": "execute_result"
    }
   ],
   "source": [
    "newdf"
   ]
  },
  {
   "cell_type": "code",
   "execution_count": 35,
   "id": "4bbae0a9-8880-407a-8587-2ba4fa0e4737",
   "metadata": {},
   "outputs": [],
   "source": [
    "newdf = pd.DataFrame(np.random.rand(334,5), index = np.arange(334))"
   ]
  },
  {
   "cell_type": "code",
   "execution_count": 36,
   "id": "ee348289-e462-4e40-b8fe-e47d92115ac4",
   "metadata": {},
   "outputs": [
    {
     "data": {
      "text/html": [
       "<div>\n",
       "<style scoped>\n",
       "    .dataframe tbody tr th:only-of-type {\n",
       "        vertical-align: middle;\n",
       "    }\n",
       "\n",
       "    .dataframe tbody tr th {\n",
       "        vertical-align: top;\n",
       "    }\n",
       "\n",
       "    .dataframe thead th {\n",
       "        text-align: right;\n",
       "    }\n",
       "</style>\n",
       "<table border=\"1\" class=\"dataframe\">\n",
       "  <thead>\n",
       "    <tr style=\"text-align: right;\">\n",
       "      <th></th>\n",
       "      <th>0</th>\n",
       "      <th>1</th>\n",
       "      <th>2</th>\n",
       "      <th>3</th>\n",
       "      <th>4</th>\n",
       "    </tr>\n",
       "  </thead>\n",
       "  <tbody>\n",
       "    <tr>\n",
       "      <th>0</th>\n",
       "      <td>0.949929</td>\n",
       "      <td>0.963387</td>\n",
       "      <td>0.415592</td>\n",
       "      <td>0.366470</td>\n",
       "      <td>0.009209</td>\n",
       "    </tr>\n",
       "    <tr>\n",
       "      <th>1</th>\n",
       "      <td>0.513208</td>\n",
       "      <td>0.526904</td>\n",
       "      <td>0.655313</td>\n",
       "      <td>0.967006</td>\n",
       "      <td>0.870069</td>\n",
       "    </tr>\n",
       "    <tr>\n",
       "      <th>2</th>\n",
       "      <td>0.714780</td>\n",
       "      <td>0.399358</td>\n",
       "      <td>0.118568</td>\n",
       "      <td>0.217121</td>\n",
       "      <td>0.201434</td>\n",
       "    </tr>\n",
       "    <tr>\n",
       "      <th>3</th>\n",
       "      <td>0.082782</td>\n",
       "      <td>0.774036</td>\n",
       "      <td>0.525955</td>\n",
       "      <td>0.424344</td>\n",
       "      <td>0.672570</td>\n",
       "    </tr>\n",
       "    <tr>\n",
       "      <th>4</th>\n",
       "      <td>0.436701</td>\n",
       "      <td>0.449087</td>\n",
       "      <td>0.223396</td>\n",
       "      <td>0.451097</td>\n",
       "      <td>0.233582</td>\n",
       "    </tr>\n",
       "    <tr>\n",
       "      <th>...</th>\n",
       "      <td>...</td>\n",
       "      <td>...</td>\n",
       "      <td>...</td>\n",
       "      <td>...</td>\n",
       "      <td>...</td>\n",
       "    </tr>\n",
       "    <tr>\n",
       "      <th>329</th>\n",
       "      <td>0.363302</td>\n",
       "      <td>0.354862</td>\n",
       "      <td>0.295935</td>\n",
       "      <td>0.927258</td>\n",
       "      <td>0.178281</td>\n",
       "    </tr>\n",
       "    <tr>\n",
       "      <th>330</th>\n",
       "      <td>0.278179</td>\n",
       "      <td>0.629779</td>\n",
       "      <td>0.070092</td>\n",
       "      <td>0.747344</td>\n",
       "      <td>0.037489</td>\n",
       "    </tr>\n",
       "    <tr>\n",
       "      <th>331</th>\n",
       "      <td>0.406437</td>\n",
       "      <td>0.515095</td>\n",
       "      <td>0.250246</td>\n",
       "      <td>0.310815</td>\n",
       "      <td>0.567333</td>\n",
       "    </tr>\n",
       "    <tr>\n",
       "      <th>332</th>\n",
       "      <td>0.652980</td>\n",
       "      <td>0.314201</td>\n",
       "      <td>0.129195</td>\n",
       "      <td>0.588565</td>\n",
       "      <td>0.296024</td>\n",
       "    </tr>\n",
       "    <tr>\n",
       "      <th>333</th>\n",
       "      <td>0.726269</td>\n",
       "      <td>0.284766</td>\n",
       "      <td>0.330806</td>\n",
       "      <td>0.429761</td>\n",
       "      <td>0.881932</td>\n",
       "    </tr>\n",
       "  </tbody>\n",
       "</table>\n",
       "<p>334 rows × 5 columns</p>\n",
       "</div>"
      ],
      "text/plain": [
       "            0         1         2         3         4\n",
       "0    0.949929  0.963387  0.415592  0.366470  0.009209\n",
       "1    0.513208  0.526904  0.655313  0.967006  0.870069\n",
       "2    0.714780  0.399358  0.118568  0.217121  0.201434\n",
       "3    0.082782  0.774036  0.525955  0.424344  0.672570\n",
       "4    0.436701  0.449087  0.223396  0.451097  0.233582\n",
       "..        ...       ...       ...       ...       ...\n",
       "329  0.363302  0.354862  0.295935  0.927258  0.178281\n",
       "330  0.278179  0.629779  0.070092  0.747344  0.037489\n",
       "331  0.406437  0.515095  0.250246  0.310815  0.567333\n",
       "332  0.652980  0.314201  0.129195  0.588565  0.296024\n",
       "333  0.726269  0.284766  0.330806  0.429761  0.881932\n",
       "\n",
       "[334 rows x 5 columns]"
      ]
     },
     "execution_count": 36,
     "metadata": {},
     "output_type": "execute_result"
    }
   ],
   "source": [
    "newdf"
   ]
  },
  {
   "cell_type": "code",
   "execution_count": 37,
   "id": "e2e473cc-dd68-43be-ac7b-26c793af99a1",
   "metadata": {},
   "outputs": [
    {
     "data": {
      "text/plain": [
       "pandas.core.frame.DataFrame"
      ]
     },
     "execution_count": 37,
     "metadata": {},
     "output_type": "execute_result"
    }
   ],
   "source": [
    "type(newdf)"
   ]
  },
  {
   "cell_type": "code",
   "execution_count": 38,
   "id": "433ab71b-6adb-427b-a349-cdeb00d3c2f5",
   "metadata": {},
   "outputs": [
    {
     "data": {
      "text/html": [
       "<div>\n",
       "<style scoped>\n",
       "    .dataframe tbody tr th:only-of-type {\n",
       "        vertical-align: middle;\n",
       "    }\n",
       "\n",
       "    .dataframe tbody tr th {\n",
       "        vertical-align: top;\n",
       "    }\n",
       "\n",
       "    .dataframe thead th {\n",
       "        text-align: right;\n",
       "    }\n",
       "</style>\n",
       "<table border=\"1\" class=\"dataframe\">\n",
       "  <thead>\n",
       "    <tr style=\"text-align: right;\">\n",
       "      <th></th>\n",
       "      <th>0</th>\n",
       "      <th>1</th>\n",
       "      <th>2</th>\n",
       "      <th>3</th>\n",
       "      <th>4</th>\n",
       "    </tr>\n",
       "  </thead>\n",
       "  <tbody>\n",
       "    <tr>\n",
       "      <th>count</th>\n",
       "      <td>334.000000</td>\n",
       "      <td>334.000000</td>\n",
       "      <td>334.000000</td>\n",
       "      <td>334.000000</td>\n",
       "      <td>334.000000</td>\n",
       "    </tr>\n",
       "    <tr>\n",
       "      <th>mean</th>\n",
       "      <td>0.501823</td>\n",
       "      <td>0.495386</td>\n",
       "      <td>0.526790</td>\n",
       "      <td>0.494512</td>\n",
       "      <td>0.512515</td>\n",
       "    </tr>\n",
       "    <tr>\n",
       "      <th>std</th>\n",
       "      <td>0.280070</td>\n",
       "      <td>0.283264</td>\n",
       "      <td>0.291658</td>\n",
       "      <td>0.287202</td>\n",
       "      <td>0.295100</td>\n",
       "    </tr>\n",
       "    <tr>\n",
       "      <th>min</th>\n",
       "      <td>0.004693</td>\n",
       "      <td>0.003449</td>\n",
       "      <td>0.001650</td>\n",
       "      <td>0.005005</td>\n",
       "      <td>0.003120</td>\n",
       "    </tr>\n",
       "    <tr>\n",
       "      <th>25%</th>\n",
       "      <td>0.269934</td>\n",
       "      <td>0.256146</td>\n",
       "      <td>0.255207</td>\n",
       "      <td>0.235579</td>\n",
       "      <td>0.254846</td>\n",
       "    </tr>\n",
       "    <tr>\n",
       "      <th>50%</th>\n",
       "      <td>0.492902</td>\n",
       "      <td>0.504074</td>\n",
       "      <td>0.530948</td>\n",
       "      <td>0.503073</td>\n",
       "      <td>0.527954</td>\n",
       "    </tr>\n",
       "    <tr>\n",
       "      <th>75%</th>\n",
       "      <td>0.749072</td>\n",
       "      <td>0.723562</td>\n",
       "      <td>0.783408</td>\n",
       "      <td>0.732544</td>\n",
       "      <td>0.773469</td>\n",
       "    </tr>\n",
       "    <tr>\n",
       "      <th>max</th>\n",
       "      <td>0.995034</td>\n",
       "      <td>0.989782</td>\n",
       "      <td>0.999780</td>\n",
       "      <td>0.998757</td>\n",
       "      <td>0.991942</td>\n",
       "    </tr>\n",
       "  </tbody>\n",
       "</table>\n",
       "</div>"
      ],
      "text/plain": [
       "                0           1           2           3           4\n",
       "count  334.000000  334.000000  334.000000  334.000000  334.000000\n",
       "mean     0.501823    0.495386    0.526790    0.494512    0.512515\n",
       "std      0.280070    0.283264    0.291658    0.287202    0.295100\n",
       "min      0.004693    0.003449    0.001650    0.005005    0.003120\n",
       "25%      0.269934    0.256146    0.255207    0.235579    0.254846\n",
       "50%      0.492902    0.504074    0.530948    0.503073    0.527954\n",
       "75%      0.749072    0.723562    0.783408    0.732544    0.773469\n",
       "max      0.995034    0.989782    0.999780    0.998757    0.991942"
      ]
     },
     "execution_count": 38,
     "metadata": {},
     "output_type": "execute_result"
    }
   ],
   "source": [
    "newdf.describe()"
   ]
  },
  {
   "cell_type": "code",
   "execution_count": 39,
   "id": "4f278aea-7040-40fa-b72a-e4b9d98049b9",
   "metadata": {},
   "outputs": [
    {
     "data": {
      "text/plain": [
       "0    float64\n",
       "1    float64\n",
       "2    float64\n",
       "3    float64\n",
       "4    float64\n",
       "dtype: object"
      ]
     },
     "execution_count": 39,
     "metadata": {},
     "output_type": "execute_result"
    }
   ],
   "source": [
    "newdf.dtypes\n",
    "# ye har ek column ka data type bta raha hain"
   ]
  },
  {
   "cell_type": "code",
   "execution_count": 40,
   "id": "2292d960-7963-4d56-b3c1-e1df5b3a4cae",
   "metadata": {},
   "outputs": [
    {
     "data": {
      "text/html": [
       "<div>\n",
       "<style scoped>\n",
       "    .dataframe tbody tr th:only-of-type {\n",
       "        vertical-align: middle;\n",
       "    }\n",
       "\n",
       "    .dataframe tbody tr th {\n",
       "        vertical-align: top;\n",
       "    }\n",
       "\n",
       "    .dataframe thead th {\n",
       "        text-align: right;\n",
       "    }\n",
       "</style>\n",
       "<table border=\"1\" class=\"dataframe\">\n",
       "  <thead>\n",
       "    <tr style=\"text-align: right;\">\n",
       "      <th></th>\n",
       "      <th>0</th>\n",
       "      <th>1</th>\n",
       "      <th>2</th>\n",
       "      <th>3</th>\n",
       "      <th>4</th>\n",
       "    </tr>\n",
       "  </thead>\n",
       "  <tbody>\n",
       "    <tr>\n",
       "      <th>0</th>\n",
       "      <td>0.949929</td>\n",
       "      <td>0.963387</td>\n",
       "      <td>0.415592</td>\n",
       "      <td>0.366470</td>\n",
       "      <td>0.009209</td>\n",
       "    </tr>\n",
       "    <tr>\n",
       "      <th>1</th>\n",
       "      <td>0.513208</td>\n",
       "      <td>0.526904</td>\n",
       "      <td>0.655313</td>\n",
       "      <td>0.967006</td>\n",
       "      <td>0.870069</td>\n",
       "    </tr>\n",
       "    <tr>\n",
       "      <th>2</th>\n",
       "      <td>0.714780</td>\n",
       "      <td>0.399358</td>\n",
       "      <td>0.118568</td>\n",
       "      <td>0.217121</td>\n",
       "      <td>0.201434</td>\n",
       "    </tr>\n",
       "    <tr>\n",
       "      <th>3</th>\n",
       "      <td>0.082782</td>\n",
       "      <td>0.774036</td>\n",
       "      <td>0.525955</td>\n",
       "      <td>0.424344</td>\n",
       "      <td>0.672570</td>\n",
       "    </tr>\n",
       "    <tr>\n",
       "      <th>4</th>\n",
       "      <td>0.436701</td>\n",
       "      <td>0.449087</td>\n",
       "      <td>0.223396</td>\n",
       "      <td>0.451097</td>\n",
       "      <td>0.233582</td>\n",
       "    </tr>\n",
       "  </tbody>\n",
       "</table>\n",
       "</div>"
      ],
      "text/plain": [
       "          0         1         2         3         4\n",
       "0  0.949929  0.963387  0.415592  0.366470  0.009209\n",
       "1  0.513208  0.526904  0.655313  0.967006  0.870069\n",
       "2  0.714780  0.399358  0.118568  0.217121  0.201434\n",
       "3  0.082782  0.774036  0.525955  0.424344  0.672570\n",
       "4  0.436701  0.449087  0.223396  0.451097  0.233582"
      ]
     },
     "execution_count": 40,
     "metadata": {},
     "output_type": "execute_result"
    }
   ],
   "source": [
    "newdf.head()"
   ]
  },
  {
   "cell_type": "code",
   "execution_count": 41,
   "id": "33f95728-2877-4770-83a2-f9c18153f5dc",
   "metadata": {},
   "outputs": [
    {
     "name": "stderr",
     "output_type": "stream",
     "text": [
      "C:\\Users\\Vikra\\AppData\\Local\\Temp\\ipykernel_8504\\771384931.py:1: FutureWarning: ChainedAssignmentError: behaviour will change in pandas 3.0!\n",
      "You are setting values through chained assignment. Currently this works in certain cases, but when using Copy-on-Write (which will become the default behaviour in pandas 3.0) this will never work to update the original DataFrame or Series, because the intermediate object on which we are setting values will behave as a copy.\n",
      "A typical example is when you are setting values in a column of a DataFrame, like:\n",
      "\n",
      "df[\"col\"][row_indexer] = value\n",
      "\n",
      "Use `df.loc[row_indexer, \"col\"] = values` instead, to perform the assignment in a single step and ensure this keeps updating the original `df`.\n",
      "\n",
      "See the caveats in the documentation: https://pandas.pydata.org/pandas-docs/stable/user_guide/indexing.html#returning-a-view-versus-a-copy\n",
      "\n",
      "  newdf[0][0] = \"Vikram\"\n",
      "C:\\Users\\Vikra\\AppData\\Local\\Temp\\ipykernel_8504\\771384931.py:1: FutureWarning: Setting an item of incompatible dtype is deprecated and will raise an error in a future version of pandas. Value 'Vikram' has dtype incompatible with float64, please explicitly cast to a compatible dtype first.\n",
      "  newdf[0][0] = \"Vikram\"\n"
     ]
    }
   ],
   "source": [
    "newdf[0][0] = \"Vikram\""
   ]
  },
  {
   "cell_type": "code",
   "execution_count": 42,
   "id": "a4fc3838-9998-46f5-a956-44bb533acc69",
   "metadata": {},
   "outputs": [
    {
     "data": {
      "text/html": [
       "<div>\n",
       "<style scoped>\n",
       "    .dataframe tbody tr th:only-of-type {\n",
       "        vertical-align: middle;\n",
       "    }\n",
       "\n",
       "    .dataframe tbody tr th {\n",
       "        vertical-align: top;\n",
       "    }\n",
       "\n",
       "    .dataframe thead th {\n",
       "        text-align: right;\n",
       "    }\n",
       "</style>\n",
       "<table border=\"1\" class=\"dataframe\">\n",
       "  <thead>\n",
       "    <tr style=\"text-align: right;\">\n",
       "      <th></th>\n",
       "      <th>0</th>\n",
       "      <th>1</th>\n",
       "      <th>2</th>\n",
       "      <th>3</th>\n",
       "      <th>4</th>\n",
       "    </tr>\n",
       "  </thead>\n",
       "  <tbody>\n",
       "    <tr>\n",
       "      <th>0</th>\n",
       "      <td>Vikram</td>\n",
       "      <td>0.963387</td>\n",
       "      <td>0.415592</td>\n",
       "      <td>0.366470</td>\n",
       "      <td>0.009209</td>\n",
       "    </tr>\n",
       "    <tr>\n",
       "      <th>1</th>\n",
       "      <td>0.513208</td>\n",
       "      <td>0.526904</td>\n",
       "      <td>0.655313</td>\n",
       "      <td>0.967006</td>\n",
       "      <td>0.870069</td>\n",
       "    </tr>\n",
       "    <tr>\n",
       "      <th>2</th>\n",
       "      <td>0.71478</td>\n",
       "      <td>0.399358</td>\n",
       "      <td>0.118568</td>\n",
       "      <td>0.217121</td>\n",
       "      <td>0.201434</td>\n",
       "    </tr>\n",
       "    <tr>\n",
       "      <th>3</th>\n",
       "      <td>0.082782</td>\n",
       "      <td>0.774036</td>\n",
       "      <td>0.525955</td>\n",
       "      <td>0.424344</td>\n",
       "      <td>0.672570</td>\n",
       "    </tr>\n",
       "    <tr>\n",
       "      <th>4</th>\n",
       "      <td>0.436701</td>\n",
       "      <td>0.449087</td>\n",
       "      <td>0.223396</td>\n",
       "      <td>0.451097</td>\n",
       "      <td>0.233582</td>\n",
       "    </tr>\n",
       "  </tbody>\n",
       "</table>\n",
       "</div>"
      ],
      "text/plain": [
       "          0         1         2         3         4\n",
       "0    Vikram  0.963387  0.415592  0.366470  0.009209\n",
       "1  0.513208  0.526904  0.655313  0.967006  0.870069\n",
       "2   0.71478  0.399358  0.118568  0.217121  0.201434\n",
       "3  0.082782  0.774036  0.525955  0.424344  0.672570\n",
       "4  0.436701  0.449087  0.223396  0.451097  0.233582"
      ]
     },
     "execution_count": 42,
     "metadata": {},
     "output_type": "execute_result"
    }
   ],
   "source": [
    "newdf.head()"
   ]
  },
  {
   "cell_type": "code",
   "execution_count": 43,
   "id": "4dc98e7d-6431-47c1-90da-64e65a2a8971",
   "metadata": {},
   "outputs": [
    {
     "data": {
      "text/plain": [
       "0     object\n",
       "1    float64\n",
       "2    float64\n",
       "3    float64\n",
       "4    float64\n",
       "dtype: object"
      ]
     },
     "execution_count": 43,
     "metadata": {},
     "output_type": "execute_result"
    }
   ],
   "source": [
    "newdf.dtypes\n",
    "# now column 0 has become object because we have put string in column 0"
   ]
  },
  {
   "cell_type": "code",
   "execution_count": 44,
   "id": "19f3e2ba-e0b9-4ca4-88b8-add20cefccb8",
   "metadata": {},
   "outputs": [
    {
     "data": {
      "text/plain": [
       "Index([  0,   1,   2,   3,   4,   5,   6,   7,   8,   9,\n",
       "       ...\n",
       "       324, 325, 326, 327, 328, 329, 330, 331, 332, 333],\n",
       "      dtype='int64', length=334)"
      ]
     },
     "execution_count": 44,
     "metadata": {},
     "output_type": "execute_result"
    }
   ],
   "source": [
    "# now, we will print the index\n",
    "newdf.index"
   ]
  },
  {
   "cell_type": "code",
   "execution_count": 46,
   "id": "b4c34eb9-b4df-40cd-a16e-57a5611f69f1",
   "metadata": {},
   "outputs": [
    {
     "data": {
      "text/plain": [
       "RangeIndex(start=0, stop=5, step=1)"
      ]
     },
     "execution_count": 46,
     "metadata": {},
     "output_type": "execute_result"
    }
   ],
   "source": [
    "# now, we will print the column of dataframe\n",
    "newdf.columns"
   ]
  },
  {
   "cell_type": "code",
   "execution_count": 47,
   "id": "18b708a1-4472-48fe-bfce-aafed274b8e1",
   "metadata": {},
   "outputs": [],
   "source": [
    "newdf[0][0] = 0.34"
   ]
  },
  {
   "cell_type": "code",
   "execution_count": 48,
   "id": "17a6a627-96e8-4630-87a2-65a480a36d1d",
   "metadata": {},
   "outputs": [
    {
     "data": {
      "text/html": [
       "<div>\n",
       "<style scoped>\n",
       "    .dataframe tbody tr th:only-of-type {\n",
       "        vertical-align: middle;\n",
       "    }\n",
       "\n",
       "    .dataframe tbody tr th {\n",
       "        vertical-align: top;\n",
       "    }\n",
       "\n",
       "    .dataframe thead th {\n",
       "        text-align: right;\n",
       "    }\n",
       "</style>\n",
       "<table border=\"1\" class=\"dataframe\">\n",
       "  <thead>\n",
       "    <tr style=\"text-align: right;\">\n",
       "      <th></th>\n",
       "      <th>0</th>\n",
       "      <th>1</th>\n",
       "      <th>2</th>\n",
       "      <th>3</th>\n",
       "      <th>4</th>\n",
       "    </tr>\n",
       "  </thead>\n",
       "  <tbody>\n",
       "    <tr>\n",
       "      <th>0</th>\n",
       "      <td>0.34</td>\n",
       "      <td>0.963387</td>\n",
       "      <td>0.415592</td>\n",
       "      <td>0.366470</td>\n",
       "      <td>0.009209</td>\n",
       "    </tr>\n",
       "    <tr>\n",
       "      <th>1</th>\n",
       "      <td>0.513208</td>\n",
       "      <td>0.526904</td>\n",
       "      <td>0.655313</td>\n",
       "      <td>0.967006</td>\n",
       "      <td>0.870069</td>\n",
       "    </tr>\n",
       "    <tr>\n",
       "      <th>2</th>\n",
       "      <td>0.71478</td>\n",
       "      <td>0.399358</td>\n",
       "      <td>0.118568</td>\n",
       "      <td>0.217121</td>\n",
       "      <td>0.201434</td>\n",
       "    </tr>\n",
       "    <tr>\n",
       "      <th>3</th>\n",
       "      <td>0.082782</td>\n",
       "      <td>0.774036</td>\n",
       "      <td>0.525955</td>\n",
       "      <td>0.424344</td>\n",
       "      <td>0.672570</td>\n",
       "    </tr>\n",
       "    <tr>\n",
       "      <th>4</th>\n",
       "      <td>0.436701</td>\n",
       "      <td>0.449087</td>\n",
       "      <td>0.223396</td>\n",
       "      <td>0.451097</td>\n",
       "      <td>0.233582</td>\n",
       "    </tr>\n",
       "  </tbody>\n",
       "</table>\n",
       "</div>"
      ],
      "text/plain": [
       "          0         1         2         3         4\n",
       "0      0.34  0.963387  0.415592  0.366470  0.009209\n",
       "1  0.513208  0.526904  0.655313  0.967006  0.870069\n",
       "2   0.71478  0.399358  0.118568  0.217121  0.201434\n",
       "3  0.082782  0.774036  0.525955  0.424344  0.672570\n",
       "4  0.436701  0.449087  0.223396  0.451097  0.233582"
      ]
     },
     "execution_count": 48,
     "metadata": {},
     "output_type": "execute_result"
    }
   ],
   "source": [
    "newdf.head()"
   ]
  },
  {
   "cell_type": "code",
   "execution_count": 49,
   "id": "a097e43c-2a8b-47f7-b2e7-f7473226a6c7",
   "metadata": {},
   "outputs": [
    {
     "data": {
      "text/plain": [
       "array([[0.34, 0.9633872358812178, 0.4155924329704418, 0.3664699745247968,\n",
       "        0.009208565870978402],\n",
       "       [0.5132082373219299, 0.5269039179911068, 0.6553127847270387,\n",
       "        0.9670061022271741, 0.8700688508473257],\n",
       "       [0.7147798233445254, 0.3993577572554049, 0.11856799201330948,\n",
       "        0.2171205642636037, 0.20143379547184692],\n",
       "       ...,\n",
       "       [0.40643748633288723, 0.5150952107737653, 0.25024603854009897,\n",
       "        0.3108150574081959, 0.5673329271049887],\n",
       "       [0.6529804616738357, 0.3142014953007207, 0.12919462571284035,\n",
       "        0.5885648573262635, 0.29602419281905423],\n",
       "       [0.7262693634370073, 0.2847661184170034, 0.33080628399125944,\n",
       "        0.42976121544769463, 0.8819324902464585]], dtype=object)"
      ]
     },
     "execution_count": 49,
     "metadata": {},
     "output_type": "execute_result"
    }
   ],
   "source": [
    "# now, we will try to convert into numpy array\n",
    "newdf.to_numpy()"
   ]
  },
  {
   "cell_type": "code",
   "execution_count": 51,
   "id": "98f78758-6c6b-4761-a41c-89e0336bc9d6",
   "metadata": {},
   "outputs": [
    {
     "data": {
      "text/html": [
       "<div>\n",
       "<style scoped>\n",
       "    .dataframe tbody tr th:only-of-type {\n",
       "        vertical-align: middle;\n",
       "    }\n",
       "\n",
       "    .dataframe tbody tr th {\n",
       "        vertical-align: top;\n",
       "    }\n",
       "\n",
       "    .dataframe thead th {\n",
       "        text-align: right;\n",
       "    }\n",
       "</style>\n",
       "<table border=\"1\" class=\"dataframe\">\n",
       "  <thead>\n",
       "    <tr style=\"text-align: right;\">\n",
       "      <th></th>\n",
       "      <th>0</th>\n",
       "      <th>1</th>\n",
       "      <th>2</th>\n",
       "      <th>3</th>\n",
       "      <th>4</th>\n",
       "      <th>5</th>\n",
       "      <th>6</th>\n",
       "      <th>7</th>\n",
       "      <th>8</th>\n",
       "      <th>9</th>\n",
       "      <th>...</th>\n",
       "      <th>324</th>\n",
       "      <th>325</th>\n",
       "      <th>326</th>\n",
       "      <th>327</th>\n",
       "      <th>328</th>\n",
       "      <th>329</th>\n",
       "      <th>330</th>\n",
       "      <th>331</th>\n",
       "      <th>332</th>\n",
       "      <th>333</th>\n",
       "    </tr>\n",
       "  </thead>\n",
       "  <tbody>\n",
       "    <tr>\n",
       "      <th>0</th>\n",
       "      <td>0.34</td>\n",
       "      <td>0.513208</td>\n",
       "      <td>0.71478</td>\n",
       "      <td>0.082782</td>\n",
       "      <td>0.436701</td>\n",
       "      <td>0.464861</td>\n",
       "      <td>0.8261</td>\n",
       "      <td>0.173713</td>\n",
       "      <td>0.388937</td>\n",
       "      <td>0.752856</td>\n",
       "      <td>...</td>\n",
       "      <td>0.256198</td>\n",
       "      <td>0.006674</td>\n",
       "      <td>0.521671</td>\n",
       "      <td>0.204015</td>\n",
       "      <td>0.965527</td>\n",
       "      <td>0.363302</td>\n",
       "      <td>0.278179</td>\n",
       "      <td>0.406437</td>\n",
       "      <td>0.65298</td>\n",
       "      <td>0.726269</td>\n",
       "    </tr>\n",
       "    <tr>\n",
       "      <th>1</th>\n",
       "      <td>0.963387</td>\n",
       "      <td>0.526904</td>\n",
       "      <td>0.399358</td>\n",
       "      <td>0.774036</td>\n",
       "      <td>0.449087</td>\n",
       "      <td>0.895027</td>\n",
       "      <td>0.237815</td>\n",
       "      <td>0.87701</td>\n",
       "      <td>0.894457</td>\n",
       "      <td>0.584155</td>\n",
       "      <td>...</td>\n",
       "      <td>0.613426</td>\n",
       "      <td>0.685711</td>\n",
       "      <td>0.664704</td>\n",
       "      <td>0.390416</td>\n",
       "      <td>0.034251</td>\n",
       "      <td>0.354862</td>\n",
       "      <td>0.629779</td>\n",
       "      <td>0.515095</td>\n",
       "      <td>0.314201</td>\n",
       "      <td>0.284766</td>\n",
       "    </tr>\n",
       "    <tr>\n",
       "      <th>2</th>\n",
       "      <td>0.415592</td>\n",
       "      <td>0.655313</td>\n",
       "      <td>0.118568</td>\n",
       "      <td>0.525955</td>\n",
       "      <td>0.223396</td>\n",
       "      <td>0.238711</td>\n",
       "      <td>0.004191</td>\n",
       "      <td>0.807477</td>\n",
       "      <td>0.726462</td>\n",
       "      <td>0.460621</td>\n",
       "      <td>...</td>\n",
       "      <td>0.441532</td>\n",
       "      <td>0.339204</td>\n",
       "      <td>0.068066</td>\n",
       "      <td>0.309844</td>\n",
       "      <td>0.898121</td>\n",
       "      <td>0.295935</td>\n",
       "      <td>0.070092</td>\n",
       "      <td>0.250246</td>\n",
       "      <td>0.129195</td>\n",
       "      <td>0.330806</td>\n",
       "    </tr>\n",
       "    <tr>\n",
       "      <th>3</th>\n",
       "      <td>0.36647</td>\n",
       "      <td>0.967006</td>\n",
       "      <td>0.217121</td>\n",
       "      <td>0.424344</td>\n",
       "      <td>0.451097</td>\n",
       "      <td>0.445944</td>\n",
       "      <td>0.851193</td>\n",
       "      <td>0.610304</td>\n",
       "      <td>0.104961</td>\n",
       "      <td>0.732905</td>\n",
       "      <td>...</td>\n",
       "      <td>0.046955</td>\n",
       "      <td>0.208135</td>\n",
       "      <td>0.232627</td>\n",
       "      <td>0.33086</td>\n",
       "      <td>0.188926</td>\n",
       "      <td>0.927258</td>\n",
       "      <td>0.747344</td>\n",
       "      <td>0.310815</td>\n",
       "      <td>0.588565</td>\n",
       "      <td>0.429761</td>\n",
       "    </tr>\n",
       "    <tr>\n",
       "      <th>4</th>\n",
       "      <td>0.009209</td>\n",
       "      <td>0.870069</td>\n",
       "      <td>0.201434</td>\n",
       "      <td>0.67257</td>\n",
       "      <td>0.233582</td>\n",
       "      <td>0.701051</td>\n",
       "      <td>0.77423</td>\n",
       "      <td>0.453473</td>\n",
       "      <td>0.948999</td>\n",
       "      <td>0.088492</td>\n",
       "      <td>...</td>\n",
       "      <td>0.583456</td>\n",
       "      <td>0.620995</td>\n",
       "      <td>0.489232</td>\n",
       "      <td>0.529609</td>\n",
       "      <td>0.572789</td>\n",
       "      <td>0.178281</td>\n",
       "      <td>0.037489</td>\n",
       "      <td>0.567333</td>\n",
       "      <td>0.296024</td>\n",
       "      <td>0.881932</td>\n",
       "    </tr>\n",
       "  </tbody>\n",
       "</table>\n",
       "<p>5 rows × 334 columns</p>\n",
       "</div>"
      ],
      "text/plain": [
       "        0         1         2         3         4         5         6    \\\n",
       "0      0.34  0.513208   0.71478  0.082782  0.436701  0.464861    0.8261   \n",
       "1  0.963387  0.526904  0.399358  0.774036  0.449087  0.895027  0.237815   \n",
       "2  0.415592  0.655313  0.118568  0.525955  0.223396  0.238711  0.004191   \n",
       "3   0.36647  0.967006  0.217121  0.424344  0.451097  0.445944  0.851193   \n",
       "4  0.009209  0.870069  0.201434   0.67257  0.233582  0.701051   0.77423   \n",
       "\n",
       "        7         8         9    ...       324       325       326       327  \\\n",
       "0  0.173713  0.388937  0.752856  ...  0.256198  0.006674  0.521671  0.204015   \n",
       "1   0.87701  0.894457  0.584155  ...  0.613426  0.685711  0.664704  0.390416   \n",
       "2  0.807477  0.726462  0.460621  ...  0.441532  0.339204  0.068066  0.309844   \n",
       "3  0.610304  0.104961  0.732905  ...  0.046955  0.208135  0.232627   0.33086   \n",
       "4  0.453473  0.948999  0.088492  ...  0.583456  0.620995  0.489232  0.529609   \n",
       "\n",
       "        328       329       330       331       332       333  \n",
       "0  0.965527  0.363302  0.278179  0.406437   0.65298  0.726269  \n",
       "1  0.034251  0.354862  0.629779  0.515095  0.314201  0.284766  \n",
       "2  0.898121  0.295935  0.070092  0.250246  0.129195  0.330806  \n",
       "3  0.188926  0.927258  0.747344  0.310815  0.588565  0.429761  \n",
       "4  0.572789  0.178281  0.037489  0.567333  0.296024  0.881932  \n",
       "\n",
       "[5 rows x 334 columns]"
      ]
     },
     "execution_count": 51,
     "metadata": {},
     "output_type": "execute_result"
    }
   ],
   "source": [
    "newdf.T\n",
    "# isse is data ka transpose ho jayga\n",
    "# same as matrix transpose"
   ]
  },
  {
   "cell_type": "code",
   "execution_count": 54,
   "id": "d14c210b-7b15-4143-954a-3288b74d022c",
   "metadata": {},
   "outputs": [
    {
     "data": {
      "text/html": [
       "<div>\n",
       "<style scoped>\n",
       "    .dataframe tbody tr th:only-of-type {\n",
       "        vertical-align: middle;\n",
       "    }\n",
       "\n",
       "    .dataframe tbody tr th {\n",
       "        vertical-align: top;\n",
       "    }\n",
       "\n",
       "    .dataframe thead th {\n",
       "        text-align: right;\n",
       "    }\n",
       "</style>\n",
       "<table border=\"1\" class=\"dataframe\">\n",
       "  <thead>\n",
       "    <tr style=\"text-align: right;\">\n",
       "      <th></th>\n",
       "      <th>0</th>\n",
       "      <th>1</th>\n",
       "      <th>2</th>\n",
       "      <th>3</th>\n",
       "      <th>4</th>\n",
       "    </tr>\n",
       "  </thead>\n",
       "  <tbody>\n",
       "    <tr>\n",
       "      <th>333</th>\n",
       "      <td>0.726269</td>\n",
       "      <td>0.284766</td>\n",
       "      <td>0.330806</td>\n",
       "      <td>0.429761</td>\n",
       "      <td>0.881932</td>\n",
       "    </tr>\n",
       "    <tr>\n",
       "      <th>332</th>\n",
       "      <td>0.65298</td>\n",
       "      <td>0.314201</td>\n",
       "      <td>0.129195</td>\n",
       "      <td>0.588565</td>\n",
       "      <td>0.296024</td>\n",
       "    </tr>\n",
       "    <tr>\n",
       "      <th>331</th>\n",
       "      <td>0.406437</td>\n",
       "      <td>0.515095</td>\n",
       "      <td>0.250246</td>\n",
       "      <td>0.310815</td>\n",
       "      <td>0.567333</td>\n",
       "    </tr>\n",
       "    <tr>\n",
       "      <th>330</th>\n",
       "      <td>0.278179</td>\n",
       "      <td>0.629779</td>\n",
       "      <td>0.070092</td>\n",
       "      <td>0.747344</td>\n",
       "      <td>0.037489</td>\n",
       "    </tr>\n",
       "    <tr>\n",
       "      <th>329</th>\n",
       "      <td>0.363302</td>\n",
       "      <td>0.354862</td>\n",
       "      <td>0.295935</td>\n",
       "      <td>0.927258</td>\n",
       "      <td>0.178281</td>\n",
       "    </tr>\n",
       "    <tr>\n",
       "      <th>...</th>\n",
       "      <td>...</td>\n",
       "      <td>...</td>\n",
       "      <td>...</td>\n",
       "      <td>...</td>\n",
       "      <td>...</td>\n",
       "    </tr>\n",
       "    <tr>\n",
       "      <th>4</th>\n",
       "      <td>0.436701</td>\n",
       "      <td>0.449087</td>\n",
       "      <td>0.223396</td>\n",
       "      <td>0.451097</td>\n",
       "      <td>0.233582</td>\n",
       "    </tr>\n",
       "    <tr>\n",
       "      <th>3</th>\n",
       "      <td>0.082782</td>\n",
       "      <td>0.774036</td>\n",
       "      <td>0.525955</td>\n",
       "      <td>0.424344</td>\n",
       "      <td>0.672570</td>\n",
       "    </tr>\n",
       "    <tr>\n",
       "      <th>2</th>\n",
       "      <td>0.71478</td>\n",
       "      <td>0.399358</td>\n",
       "      <td>0.118568</td>\n",
       "      <td>0.217121</td>\n",
       "      <td>0.201434</td>\n",
       "    </tr>\n",
       "    <tr>\n",
       "      <th>1</th>\n",
       "      <td>0.513208</td>\n",
       "      <td>0.526904</td>\n",
       "      <td>0.655313</td>\n",
       "      <td>0.967006</td>\n",
       "      <td>0.870069</td>\n",
       "    </tr>\n",
       "    <tr>\n",
       "      <th>0</th>\n",
       "      <td>0.34</td>\n",
       "      <td>0.963387</td>\n",
       "      <td>0.415592</td>\n",
       "      <td>0.366470</td>\n",
       "      <td>0.009209</td>\n",
       "    </tr>\n",
       "  </tbody>\n",
       "</table>\n",
       "<p>334 rows × 5 columns</p>\n",
       "</div>"
      ],
      "text/plain": [
       "            0         1         2         3         4\n",
       "333  0.726269  0.284766  0.330806  0.429761  0.881932\n",
       "332   0.65298  0.314201  0.129195  0.588565  0.296024\n",
       "331  0.406437  0.515095  0.250246  0.310815  0.567333\n",
       "330  0.278179  0.629779  0.070092  0.747344  0.037489\n",
       "329  0.363302  0.354862  0.295935  0.927258  0.178281\n",
       "..        ...       ...       ...       ...       ...\n",
       "4    0.436701  0.449087  0.223396  0.451097  0.233582\n",
       "3    0.082782  0.774036  0.525955  0.424344  0.672570\n",
       "2     0.71478  0.399358  0.118568  0.217121  0.201434\n",
       "1    0.513208  0.526904  0.655313  0.967006  0.870069\n",
       "0        0.34  0.963387  0.415592  0.366470  0.009209\n",
       "\n",
       "[334 rows x 5 columns]"
      ]
     },
     "execution_count": 54,
     "metadata": {},
     "output_type": "execute_result"
    }
   ],
   "source": [
    "# we will sort the index of data in descending order\n",
    "newdf.sort_index (axis=0, ascending = False)\n",
    "# by default ascending humesha True rehta hain\n",
    "# axis yahan pe row ko represent karta hain"
   ]
  },
  {
   "cell_type": "code",
   "execution_count": 55,
   "id": "893b68ca-795d-444f-893a-5cca5409b7e4",
   "metadata": {},
   "outputs": [],
   "source": [
    "# NOTE: in 2-D numpy array\n",
    "# axis = 0  [this represents row]\n",
    "# axis = 1 [this represents column]"
   ]
  },
  {
   "cell_type": "code",
   "execution_count": 56,
   "id": "b3c2ccf7-e91d-431d-b1e5-a5c96f5b7e5a",
   "metadata": {},
   "outputs": [
    {
     "data": {
      "text/html": [
       "<div>\n",
       "<style scoped>\n",
       "    .dataframe tbody tr th:only-of-type {\n",
       "        vertical-align: middle;\n",
       "    }\n",
       "\n",
       "    .dataframe tbody tr th {\n",
       "        vertical-align: top;\n",
       "    }\n",
       "\n",
       "    .dataframe thead th {\n",
       "        text-align: right;\n",
       "    }\n",
       "</style>\n",
       "<table border=\"1\" class=\"dataframe\">\n",
       "  <thead>\n",
       "    <tr style=\"text-align: right;\">\n",
       "      <th></th>\n",
       "      <th>4</th>\n",
       "      <th>3</th>\n",
       "      <th>2</th>\n",
       "      <th>1</th>\n",
       "      <th>0</th>\n",
       "    </tr>\n",
       "  </thead>\n",
       "  <tbody>\n",
       "    <tr>\n",
       "      <th>0</th>\n",
       "      <td>0.009209</td>\n",
       "      <td>0.366470</td>\n",
       "      <td>0.415592</td>\n",
       "      <td>0.963387</td>\n",
       "      <td>0.34</td>\n",
       "    </tr>\n",
       "    <tr>\n",
       "      <th>1</th>\n",
       "      <td>0.870069</td>\n",
       "      <td>0.967006</td>\n",
       "      <td>0.655313</td>\n",
       "      <td>0.526904</td>\n",
       "      <td>0.513208</td>\n",
       "    </tr>\n",
       "    <tr>\n",
       "      <th>2</th>\n",
       "      <td>0.201434</td>\n",
       "      <td>0.217121</td>\n",
       "      <td>0.118568</td>\n",
       "      <td>0.399358</td>\n",
       "      <td>0.71478</td>\n",
       "    </tr>\n",
       "    <tr>\n",
       "      <th>3</th>\n",
       "      <td>0.672570</td>\n",
       "      <td>0.424344</td>\n",
       "      <td>0.525955</td>\n",
       "      <td>0.774036</td>\n",
       "      <td>0.082782</td>\n",
       "    </tr>\n",
       "    <tr>\n",
       "      <th>4</th>\n",
       "      <td>0.233582</td>\n",
       "      <td>0.451097</td>\n",
       "      <td>0.223396</td>\n",
       "      <td>0.449087</td>\n",
       "      <td>0.436701</td>\n",
       "    </tr>\n",
       "    <tr>\n",
       "      <th>...</th>\n",
       "      <td>...</td>\n",
       "      <td>...</td>\n",
       "      <td>...</td>\n",
       "      <td>...</td>\n",
       "      <td>...</td>\n",
       "    </tr>\n",
       "    <tr>\n",
       "      <th>329</th>\n",
       "      <td>0.178281</td>\n",
       "      <td>0.927258</td>\n",
       "      <td>0.295935</td>\n",
       "      <td>0.354862</td>\n",
       "      <td>0.363302</td>\n",
       "    </tr>\n",
       "    <tr>\n",
       "      <th>330</th>\n",
       "      <td>0.037489</td>\n",
       "      <td>0.747344</td>\n",
       "      <td>0.070092</td>\n",
       "      <td>0.629779</td>\n",
       "      <td>0.278179</td>\n",
       "    </tr>\n",
       "    <tr>\n",
       "      <th>331</th>\n",
       "      <td>0.567333</td>\n",
       "      <td>0.310815</td>\n",
       "      <td>0.250246</td>\n",
       "      <td>0.515095</td>\n",
       "      <td>0.406437</td>\n",
       "    </tr>\n",
       "    <tr>\n",
       "      <th>332</th>\n",
       "      <td>0.296024</td>\n",
       "      <td>0.588565</td>\n",
       "      <td>0.129195</td>\n",
       "      <td>0.314201</td>\n",
       "      <td>0.65298</td>\n",
       "    </tr>\n",
       "    <tr>\n",
       "      <th>333</th>\n",
       "      <td>0.881932</td>\n",
       "      <td>0.429761</td>\n",
       "      <td>0.330806</td>\n",
       "      <td>0.284766</td>\n",
       "      <td>0.726269</td>\n",
       "    </tr>\n",
       "  </tbody>\n",
       "</table>\n",
       "<p>334 rows × 5 columns</p>\n",
       "</div>"
      ],
      "text/plain": [
       "            4         3         2         1         0\n",
       "0    0.009209  0.366470  0.415592  0.963387      0.34\n",
       "1    0.870069  0.967006  0.655313  0.526904  0.513208\n",
       "2    0.201434  0.217121  0.118568  0.399358   0.71478\n",
       "3    0.672570  0.424344  0.525955  0.774036  0.082782\n",
       "4    0.233582  0.451097  0.223396  0.449087  0.436701\n",
       "..        ...       ...       ...       ...       ...\n",
       "329  0.178281  0.927258  0.295935  0.354862  0.363302\n",
       "330  0.037489  0.747344  0.070092  0.629779  0.278179\n",
       "331  0.567333  0.310815  0.250246  0.515095  0.406437\n",
       "332  0.296024  0.588565  0.129195  0.314201   0.65298\n",
       "333  0.881932  0.429761  0.330806  0.284766  0.726269\n",
       "\n",
       "[334 rows x 5 columns]"
      ]
     },
     "execution_count": 56,
     "metadata": {},
     "output_type": "execute_result"
    }
   ],
   "source": [
    "newdf.sort_index (axis=1, ascending = False)\n",
    "# we have sorted the column in descending order"
   ]
  },
  {
   "cell_type": "code",
   "execution_count": 57,
   "id": "00b4d6f7-b9f5-4842-af1d-05996ed5dfe7",
   "metadata": {},
   "outputs": [
    {
     "data": {
      "text/html": [
       "<div>\n",
       "<style scoped>\n",
       "    .dataframe tbody tr th:only-of-type {\n",
       "        vertical-align: middle;\n",
       "    }\n",
       "\n",
       "    .dataframe tbody tr th {\n",
       "        vertical-align: top;\n",
       "    }\n",
       "\n",
       "    .dataframe thead th {\n",
       "        text-align: right;\n",
       "    }\n",
       "</style>\n",
       "<table border=\"1\" class=\"dataframe\">\n",
       "  <thead>\n",
       "    <tr style=\"text-align: right;\">\n",
       "      <th></th>\n",
       "      <th>0</th>\n",
       "      <th>1</th>\n",
       "      <th>2</th>\n",
       "      <th>3</th>\n",
       "      <th>4</th>\n",
       "    </tr>\n",
       "  </thead>\n",
       "  <tbody>\n",
       "    <tr>\n",
       "      <th>0</th>\n",
       "      <td>0.34</td>\n",
       "      <td>0.963387</td>\n",
       "      <td>0.415592</td>\n",
       "      <td>0.366470</td>\n",
       "      <td>0.009209</td>\n",
       "    </tr>\n",
       "    <tr>\n",
       "      <th>1</th>\n",
       "      <td>0.513208</td>\n",
       "      <td>0.526904</td>\n",
       "      <td>0.655313</td>\n",
       "      <td>0.967006</td>\n",
       "      <td>0.870069</td>\n",
       "    </tr>\n",
       "    <tr>\n",
       "      <th>2</th>\n",
       "      <td>0.71478</td>\n",
       "      <td>0.399358</td>\n",
       "      <td>0.118568</td>\n",
       "      <td>0.217121</td>\n",
       "      <td>0.201434</td>\n",
       "    </tr>\n",
       "    <tr>\n",
       "      <th>3</th>\n",
       "      <td>0.082782</td>\n",
       "      <td>0.774036</td>\n",
       "      <td>0.525955</td>\n",
       "      <td>0.424344</td>\n",
       "      <td>0.672570</td>\n",
       "    </tr>\n",
       "    <tr>\n",
       "      <th>4</th>\n",
       "      <td>0.436701</td>\n",
       "      <td>0.449087</td>\n",
       "      <td>0.223396</td>\n",
       "      <td>0.451097</td>\n",
       "      <td>0.233582</td>\n",
       "    </tr>\n",
       "  </tbody>\n",
       "</table>\n",
       "</div>"
      ],
      "text/plain": [
       "          0         1         2         3         4\n",
       "0      0.34  0.963387  0.415592  0.366470  0.009209\n",
       "1  0.513208  0.526904  0.655313  0.967006  0.870069\n",
       "2   0.71478  0.399358  0.118568  0.217121  0.201434\n",
       "3  0.082782  0.774036  0.525955  0.424344  0.672570\n",
       "4  0.436701  0.449087  0.223396  0.451097  0.233582"
      ]
     },
     "execution_count": 57,
     "metadata": {},
     "output_type": "execute_result"
    }
   ],
   "source": [
    "newdf.head()"
   ]
  },
  {
   "cell_type": "code",
   "execution_count": 58,
   "id": "b63bf8f0-12c1-4f7b-a6a0-9cf50d4b45ac",
   "metadata": {},
   "outputs": [
    {
     "data": {
      "text/plain": [
       "0          0.34\n",
       "1      0.513208\n",
       "2       0.71478\n",
       "3      0.082782\n",
       "4      0.436701\n",
       "         ...   \n",
       "329    0.363302\n",
       "330    0.278179\n",
       "331    0.406437\n",
       "332     0.65298\n",
       "333    0.726269\n",
       "Name: 0, Length: 334, dtype: object"
      ]
     },
     "execution_count": 58,
     "metadata": {},
     "output_type": "execute_result"
    }
   ],
   "source": [
    "newdf[0]"
   ]
  },
  {
   "cell_type": "code",
   "execution_count": 59,
   "id": "ff604299-5650-4ff4-a0e7-b36840124359",
   "metadata": {},
   "outputs": [
    {
     "data": {
      "text/plain": [
       "pandas.core.series.Series"
      ]
     },
     "execution_count": 59,
     "metadata": {},
     "output_type": "execute_result"
    }
   ],
   "source": [
    "type (newdf[0])\n",
    "# from here we can conclude that series ke combination se data frame banta hain"
   ]
  },
  {
   "cell_type": "code",
   "execution_count": null,
   "id": "882666b6-d0f3-41ef-9ba4-b5b0a26afb0d",
   "metadata": {},
   "outputs": [],
   "source": []
  }
 ],
 "metadata": {
  "kernelspec": {
   "display_name": "Python 3 (ipykernel)",
   "language": "python",
   "name": "python3"
  },
  "language_info": {
   "codemirror_mode": {
    "name": "ipython",
    "version": 3
   },
   "file_extension": ".py",
   "mimetype": "text/x-python",
   "name": "python",
   "nbconvert_exporter": "python",
   "pygments_lexer": "ipython3",
   "version": "3.9.13"
  }
 },
 "nbformat": 4,
 "nbformat_minor": 5
}
